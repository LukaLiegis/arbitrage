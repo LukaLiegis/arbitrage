{
 "cells": [
  {
   "cell_type": "code",
   "execution_count": 46,
   "id": "initial_id",
   "metadata": {
    "collapsed": true,
    "ExecuteTime": {
     "end_time": "2024-03-18T09:47:33.355568Z",
     "start_time": "2024-03-18T09:47:33.352932Z"
    }
   },
   "outputs": [],
   "source": [
    "import json\n",
    "import websocket\n",
    "import pandas as pd"
   ]
  },
  {
   "cell_type": "code",
   "outputs": [],
   "source": [
    "ticker = \"DOGEUSDT\""
   ],
   "metadata": {
    "collapsed": false,
    "ExecuteTime": {
     "end_time": "2024-03-18T09:47:33.358219Z",
     "start_time": "2024-03-18T09:47:33.356681Z"
    }
   },
   "id": "f92d3a6c8b6cc31f",
   "execution_count": 47
  },
  {
   "cell_type": "code",
   "outputs": [],
   "source": [
    "asset = ticker.lower() + \"@kline_1m\" "
   ],
   "metadata": {
    "collapsed": false,
    "ExecuteTime": {
     "end_time": "2024-03-18T09:47:33.583846Z",
     "start_time": "2024-03-18T09:47:33.582203Z"
    }
   },
   "id": "bfe90f43a0781b46",
   "execution_count": 48
  },
  {
   "cell_type": "code",
   "outputs": [],
   "source": [
    "def manipulation(source):\n",
    "    \"\"\"\n",
    "    Manipulate the\n",
    "    :param source: \n",
    "    :return: \n",
    "    \"\"\"\n",
    "    rel_data = source[\"k\"][\"c\"]\n",
    "    evt_time = pd.to_datetime(source[\"E\"], unit=\"ms\")\n",
    "    df = pd.DataFrame(rel_data, columns=[\"close\"], index=[evt_time])\n",
    "    df.index.name = \"timestamp\"\n",
    "    df = df.astype(float)\n",
    "    df = df.reset_index()\n",
    "    print(df)\n",
    "    return df"
   ],
   "metadata": {
    "collapsed": false,
    "ExecuteTime": {
     "end_time": "2024-03-18T09:47:33.976276Z",
     "start_time": "2024-03-18T09:47:33.974116Z"
    }
   },
   "id": "e31350a89864cc27",
   "execution_count": 49
  },
  {
   "cell_type": "code",
   "outputs": [],
   "source": [
    "def on_message(ws, message):\n",
    "    \"\"\"\n",
    "    Callback function\n",
    "    :param ws: \n",
    "    :param message: \n",
    "    :return: \n",
    "    \"\"\"\n",
    "    message = json.loads(message)\n",
    "    manipulation(message)"
   ],
   "metadata": {
    "collapsed": false,
    "ExecuteTime": {
     "end_time": "2024-03-18T09:47:34.409928Z",
     "start_time": "2024-03-18T09:47:34.408232Z"
    }
   },
   "id": "d52f652448d99a82",
   "execution_count": 50
  },
  {
   "cell_type": "code",
   "outputs": [
    {
     "name": "stdout",
     "output_type": "stream",
     "text": [
      "wss://fstream.binance.com/ws/dogeusdt@kline_1m\n"
     ]
    }
   ],
   "source": [
    "socket = \"wss://fstream.binance.com/ws/\" + asset\n",
    "print(socket)"
   ],
   "metadata": {
    "collapsed": false,
    "ExecuteTime": {
     "end_time": "2024-03-18T09:47:34.808287Z",
     "start_time": "2024-03-18T09:47:34.806380Z"
    }
   },
   "id": "21f5b319d0e50030",
   "execution_count": 51
  },
  {
   "cell_type": "code",
   "outputs": [
    {
     "name": "stdout",
     "output_type": "stream",
     "text": [
      "                timestamp    close\n",
      "0 2024-03-18 09:47:36.541  0.14649\n",
      "                timestamp    close\n",
      "0 2024-03-18 09:47:37.257  0.14648\n",
      "                timestamp    close\n",
      "0 2024-03-18 09:47:37.700  0.14651\n",
      "                timestamp    close\n",
      "0 2024-03-18 09:47:38.286  0.14652\n",
      "                timestamp    close\n",
      "0 2024-03-18 09:47:38.804  0.14648\n",
      "                timestamp    close\n",
      "0 2024-03-18 09:47:39.127  0.14647\n",
      "                timestamp    close\n",
      "0 2024-03-18 09:47:39.381  0.14665\n",
      "                timestamp    close\n",
      "0 2024-03-18 09:47:39.635  0.14666\n",
      "                timestamp    close\n",
      "0 2024-03-18 09:47:40.014  0.14665\n",
      "                timestamp    close\n",
      "0 2024-03-18 09:47:40.889  0.14661\n",
      "                timestamp    close\n",
      "0 2024-03-18 09:47:41.298  0.14666\n",
      "                timestamp    close\n",
      "0 2024-03-18 09:47:41.597  0.14665\n",
      "                timestamp    close\n",
      "0 2024-03-18 09:47:41.909  0.14663\n",
      "                timestamp    close\n",
      "0 2024-03-18 09:47:42.179  0.14663\n",
      "                timestamp    close\n",
      "0 2024-03-18 09:47:42.613  0.14662\n",
      "                timestamp    close\n",
      "0 2024-03-18 09:47:43.099  0.14664\n",
      "                timestamp    close\n",
      "0 2024-03-18 09:47:43.565  0.14663\n",
      "                timestamp    close\n",
      "0 2024-03-18 09:47:43.970  0.14662\n",
      "                timestamp    close\n",
      "0 2024-03-18 09:47:44.260  0.14661\n",
      "                timestamp    close\n",
      "0 2024-03-18 09:47:44.510  0.14658\n",
      "                timestamp    close\n",
      "0 2024-03-18 09:47:44.841  0.14652\n",
      "                timestamp    close\n",
      "0 2024-03-18 09:47:45.481  0.14653\n",
      "                timestamp    close\n",
      "0 2024-03-18 09:47:46.065  0.14657\n",
      "                timestamp    close\n",
      "0 2024-03-18 09:47:46.337  0.14661\n",
      "                timestamp    close\n",
      "0 2024-03-18 09:47:46.973  0.14661\n",
      "                timestamp    close\n",
      "0 2024-03-18 09:47:47.577  0.14662\n",
      "                timestamp    close\n",
      "0 2024-03-18 09:47:48.062  0.14663\n",
      "                timestamp    close\n",
      "0 2024-03-18 09:47:48.442  0.14658\n",
      "                timestamp    close\n",
      "0 2024-03-18 09:47:48.704  0.14656\n",
      "                timestamp    close\n",
      "0 2024-03-18 09:47:49.214  0.14655\n",
      "                timestamp    close\n",
      "0 2024-03-18 09:47:49.539  0.14659\n",
      "                timestamp    close\n",
      "0 2024-03-18 09:47:50.146  0.14655\n",
      "                timestamp    close\n",
      "0 2024-03-18 09:47:50.521  0.14656\n"
     ]
    },
    {
     "data": {
      "text/plain": "True"
     },
     "execution_count": 52,
     "metadata": {},
     "output_type": "execute_result"
    }
   ],
   "source": [
    "ws = websocket.WebSocketApp(socket, on_message=on_message)\n",
    "ws.run_forever()"
   ],
   "metadata": {
    "collapsed": false,
    "ExecuteTime": {
     "end_time": "2024-03-18T09:47:51.292672Z",
     "start_time": "2024-03-18T09:47:35.205473Z"
    }
   },
   "id": "cb04d3eab3dc2158",
   "execution_count": 52
  }
 ],
 "metadata": {
  "kernelspec": {
   "display_name": "Python 3",
   "language": "python",
   "name": "python3"
  },
  "language_info": {
   "codemirror_mode": {
    "name": "ipython",
    "version": 2
   },
   "file_extension": ".py",
   "mimetype": "text/x-python",
   "name": "python",
   "nbconvert_exporter": "python",
   "pygments_lexer": "ipython2",
   "version": "2.7.6"
  }
 },
 "nbformat": 4,
 "nbformat_minor": 5
}
